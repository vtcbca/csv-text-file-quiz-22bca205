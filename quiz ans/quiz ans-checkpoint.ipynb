{
 "cells": [
  {
   "cell_type": "markdown",
   "id": "62a4353b",
   "metadata": {},
   "source": [
    "### 7. Write a program to create \"intro.txt\" file.  Print only even number of row."
   ]
  },
  {
   "cell_type": "code",
   "execution_count": 16,
   "id": "9ebe4f02",
   "metadata": {},
   "outputs": [
    {
     "name": "stdout",
     "output_type": "stream",
     "text": [
      "['my self ushma', '']\n",
      "['im college student', '']\n",
      "['im studing in sybca', '']\n",
      "['my college name is vtcbcsr', '']\n",
      "['im 19 years old', '']\n",
      "['my hobby is playing hockey', '']\n",
      "['i love travelling', '']\n",
      "['my fathers name is mahenrasingh', '']\n",
      "['he is a businessman', '']\n",
      "['my mother name is geetaben', '']\n",
      "['she is housewife', '']\n"
     ]
    }
   ],
   "source": [
    "with open('C:/22BCA205/intro.txt','r',newline='') as obj:\n",
    "    e=csv.reader(obj)\n",
    "    for i in e:\n",
    "        print(i)"
   ]
  },
  {
   "cell_type": "code",
   "execution_count": 23,
   "id": "ae24ab43",
   "metadata": {},
   "outputs": [
    {
     "name": "stdout",
     "output_type": "stream",
     "text": [
      "im college student,\r\n",
      "\n",
      "my college name is vtcbcsr,\r\n",
      "\n",
      "my hobby is playing hockey,\r\n",
      "\n",
      "my fathers name is mahenrasingh,\r\n",
      "\n",
      "my mother name is geetaben,\r\n",
      "\n"
     ]
    }
   ],
   "source": [
    "with open('C:/22BCA205/intro.txt','r',newline='') as obj:\n",
    "    e=obj.readlines()[1::2]\n",
    "    for i in e:\n",
    "        print(i)"
   ]
  },
  {
   "cell_type": "code",
   "execution_count": null,
   "id": "41a21749",
   "metadata": {},
   "outputs": [],
   "source": []
  }
 ],
 "metadata": {
  "kernelspec": {
   "display_name": "Python 3 (ipykernel)",
   "language": "python",
   "name": "python3"
  },
  "language_info": {
   "codemirror_mode": {
    "name": "ipython",
    "version": 3
   },
   "file_extension": ".py",
   "mimetype": "text/x-python",
   "name": "python",
   "nbconvert_exporter": "python",
   "pygments_lexer": "ipython3",
   "version": "3.9.6"
  }
 },
 "nbformat": 4,
 "nbformat_minor": 5
}
